{
  "nbformat": 4,
  "nbformat_minor": 0,
  "metadata": {
    "colab": {
      "name": "Autoencoder Intro.ipynb",
      "provenance": [],
      "collapsed_sections": [],
      "authorship_tag": "ABX9TyNREIRurakcT7OIWJJVtCCd",
      "include_colab_link": true
    },
    "kernelspec": {
      "display_name": "Python 3",
      "name": "python3"
    },
    "language_info": {
      "name": "python"
    },
    "widgets": {
      "application/vnd.jupyter.widget-state+json": {
        "71179ae9f4e64dd387fa9f5b74bc1b3c": {
          "model_module": "@jupyter-widgets/controls",
          "model_name": "HBoxModel",
          "model_module_version": "1.5.0",
          "state": {
            "_view_name": "HBoxView",
            "_dom_classes": [],
            "_model_name": "HBoxModel",
            "_view_module": "@jupyter-widgets/controls",
            "_model_module_version": "1.5.0",
            "_view_count": null,
            "_view_module_version": "1.5.0",
            "box_style": "",
            "layout": "IPY_MODEL_b89e42f61eac4512ad65745217df793b",
            "_model_module": "@jupyter-widgets/controls",
            "children": [
              "IPY_MODEL_ca2923e3c4e8427188f18f5295cc4143",
              "IPY_MODEL_2e7f71daf63f416093a8f8c1c2ca13b6",
              "IPY_MODEL_12cc2430ce304eacbadab8a4ff1471b8"
            ]
          }
        },
        "b89e42f61eac4512ad65745217df793b": {
          "model_module": "@jupyter-widgets/base",
          "model_name": "LayoutModel",
          "model_module_version": "1.2.0",
          "state": {
            "_view_name": "LayoutView",
            "grid_template_rows": null,
            "right": null,
            "justify_content": null,
            "_view_module": "@jupyter-widgets/base",
            "overflow": null,
            "_model_module_version": "1.2.0",
            "_view_count": null,
            "flex_flow": null,
            "width": null,
            "min_width": null,
            "border": null,
            "align_items": null,
            "bottom": null,
            "_model_module": "@jupyter-widgets/base",
            "top": null,
            "grid_column": null,
            "overflow_y": null,
            "overflow_x": null,
            "grid_auto_flow": null,
            "grid_area": null,
            "grid_template_columns": null,
            "flex": null,
            "_model_name": "LayoutModel",
            "justify_items": null,
            "grid_row": null,
            "max_height": null,
            "align_content": null,
            "visibility": null,
            "align_self": null,
            "height": null,
            "min_height": null,
            "padding": null,
            "grid_auto_rows": null,
            "grid_gap": null,
            "max_width": null,
            "order": null,
            "_view_module_version": "1.2.0",
            "grid_template_areas": null,
            "object_position": null,
            "object_fit": null,
            "grid_auto_columns": null,
            "margin": null,
            "display": null,
            "left": null
          }
        },
        "ca2923e3c4e8427188f18f5295cc4143": {
          "model_module": "@jupyter-widgets/controls",
          "model_name": "HTMLModel",
          "model_module_version": "1.5.0",
          "state": {
            "_view_name": "HTMLView",
            "style": "IPY_MODEL_fe2aeeae4a4842d693fb333746cea0c6",
            "_dom_classes": [],
            "description": "",
            "_model_name": "HTMLModel",
            "placeholder": "​",
            "_view_module": "@jupyter-widgets/controls",
            "_model_module_version": "1.5.0",
            "value": "",
            "_view_count": null,
            "_view_module_version": "1.5.0",
            "description_tooltip": null,
            "_model_module": "@jupyter-widgets/controls",
            "layout": "IPY_MODEL_2872abc40b434d3db43cd78e8e42f62c"
          }
        },
        "2e7f71daf63f416093a8f8c1c2ca13b6": {
          "model_module": "@jupyter-widgets/controls",
          "model_name": "FloatProgressModel",
          "model_module_version": "1.5.0",
          "state": {
            "_view_name": "ProgressView",
            "style": "IPY_MODEL_b1537358569744c7be0f7cc1b0df981e",
            "_dom_classes": [],
            "description": "",
            "_model_name": "FloatProgressModel",
            "bar_style": "success",
            "max": 26421880,
            "_view_module": "@jupyter-widgets/controls",
            "_model_module_version": "1.5.0",
            "value": 26421880,
            "_view_count": null,
            "_view_module_version": "1.5.0",
            "orientation": "horizontal",
            "min": 0,
            "description_tooltip": null,
            "_model_module": "@jupyter-widgets/controls",
            "layout": "IPY_MODEL_ec05f5c2edd6440a8b51064c92a9bcff"
          }
        },
        "12cc2430ce304eacbadab8a4ff1471b8": {
          "model_module": "@jupyter-widgets/controls",
          "model_name": "HTMLModel",
          "model_module_version": "1.5.0",
          "state": {
            "_view_name": "HTMLView",
            "style": "IPY_MODEL_cd023bfcb84c4d8f8c0559afc53cbf47",
            "_dom_classes": [],
            "description": "",
            "_model_name": "HTMLModel",
            "placeholder": "​",
            "_view_module": "@jupyter-widgets/controls",
            "_model_module_version": "1.5.0",
            "value": " 26422272/? [00:02&lt;00:00, 18809037.12it/s]",
            "_view_count": null,
            "_view_module_version": "1.5.0",
            "description_tooltip": null,
            "_model_module": "@jupyter-widgets/controls",
            "layout": "IPY_MODEL_c43c3b9c411b4d7aade229c830e12aa2"
          }
        },
        "fe2aeeae4a4842d693fb333746cea0c6": {
          "model_module": "@jupyter-widgets/controls",
          "model_name": "DescriptionStyleModel",
          "model_module_version": "1.5.0",
          "state": {
            "_view_name": "StyleView",
            "_model_name": "DescriptionStyleModel",
            "description_width": "",
            "_view_module": "@jupyter-widgets/base",
            "_model_module_version": "1.5.0",
            "_view_count": null,
            "_view_module_version": "1.2.0",
            "_model_module": "@jupyter-widgets/controls"
          }
        },
        "2872abc40b434d3db43cd78e8e42f62c": {
          "model_module": "@jupyter-widgets/base",
          "model_name": "LayoutModel",
          "model_module_version": "1.2.0",
          "state": {
            "_view_name": "LayoutView",
            "grid_template_rows": null,
            "right": null,
            "justify_content": null,
            "_view_module": "@jupyter-widgets/base",
            "overflow": null,
            "_model_module_version": "1.2.0",
            "_view_count": null,
            "flex_flow": null,
            "width": null,
            "min_width": null,
            "border": null,
            "align_items": null,
            "bottom": null,
            "_model_module": "@jupyter-widgets/base",
            "top": null,
            "grid_column": null,
            "overflow_y": null,
            "overflow_x": null,
            "grid_auto_flow": null,
            "grid_area": null,
            "grid_template_columns": null,
            "flex": null,
            "_model_name": "LayoutModel",
            "justify_items": null,
            "grid_row": null,
            "max_height": null,
            "align_content": null,
            "visibility": null,
            "align_self": null,
            "height": null,
            "min_height": null,
            "padding": null,
            "grid_auto_rows": null,
            "grid_gap": null,
            "max_width": null,
            "order": null,
            "_view_module_version": "1.2.0",
            "grid_template_areas": null,
            "object_position": null,
            "object_fit": null,
            "grid_auto_columns": null,
            "margin": null,
            "display": null,
            "left": null
          }
        },
        "b1537358569744c7be0f7cc1b0df981e": {
          "model_module": "@jupyter-widgets/controls",
          "model_name": "ProgressStyleModel",
          "model_module_version": "1.5.0",
          "state": {
            "_view_name": "StyleView",
            "_model_name": "ProgressStyleModel",
            "description_width": "",
            "_view_module": "@jupyter-widgets/base",
            "_model_module_version": "1.5.0",
            "_view_count": null,
            "_view_module_version": "1.2.0",
            "bar_color": null,
            "_model_module": "@jupyter-widgets/controls"
          }
        },
        "ec05f5c2edd6440a8b51064c92a9bcff": {
          "model_module": "@jupyter-widgets/base",
          "model_name": "LayoutModel",
          "model_module_version": "1.2.0",
          "state": {
            "_view_name": "LayoutView",
            "grid_template_rows": null,
            "right": null,
            "justify_content": null,
            "_view_module": "@jupyter-widgets/base",
            "overflow": null,
            "_model_module_version": "1.2.0",
            "_view_count": null,
            "flex_flow": null,
            "width": null,
            "min_width": null,
            "border": null,
            "align_items": null,
            "bottom": null,
            "_model_module": "@jupyter-widgets/base",
            "top": null,
            "grid_column": null,
            "overflow_y": null,
            "overflow_x": null,
            "grid_auto_flow": null,
            "grid_area": null,
            "grid_template_columns": null,
            "flex": null,
            "_model_name": "LayoutModel",
            "justify_items": null,
            "grid_row": null,
            "max_height": null,
            "align_content": null,
            "visibility": null,
            "align_self": null,
            "height": null,
            "min_height": null,
            "padding": null,
            "grid_auto_rows": null,
            "grid_gap": null,
            "max_width": null,
            "order": null,
            "_view_module_version": "1.2.0",
            "grid_template_areas": null,
            "object_position": null,
            "object_fit": null,
            "grid_auto_columns": null,
            "margin": null,
            "display": null,
            "left": null
          }
        },
        "cd023bfcb84c4d8f8c0559afc53cbf47": {
          "model_module": "@jupyter-widgets/controls",
          "model_name": "DescriptionStyleModel",
          "model_module_version": "1.5.0",
          "state": {
            "_view_name": "StyleView",
            "_model_name": "DescriptionStyleModel",
            "description_width": "",
            "_view_module": "@jupyter-widgets/base",
            "_model_module_version": "1.5.0",
            "_view_count": null,
            "_view_module_version": "1.2.0",
            "_model_module": "@jupyter-widgets/controls"
          }
        },
        "c43c3b9c411b4d7aade229c830e12aa2": {
          "model_module": "@jupyter-widgets/base",
          "model_name": "LayoutModel",
          "model_module_version": "1.2.0",
          "state": {
            "_view_name": "LayoutView",
            "grid_template_rows": null,
            "right": null,
            "justify_content": null,
            "_view_module": "@jupyter-widgets/base",
            "overflow": null,
            "_model_module_version": "1.2.0",
            "_view_count": null,
            "flex_flow": null,
            "width": null,
            "min_width": null,
            "border": null,
            "align_items": null,
            "bottom": null,
            "_model_module": "@jupyter-widgets/base",
            "top": null,
            "grid_column": null,
            "overflow_y": null,
            "overflow_x": null,
            "grid_auto_flow": null,
            "grid_area": null,
            "grid_template_columns": null,
            "flex": null,
            "_model_name": "LayoutModel",
            "justify_items": null,
            "grid_row": null,
            "max_height": null,
            "align_content": null,
            "visibility": null,
            "align_self": null,
            "height": null,
            "min_height": null,
            "padding": null,
            "grid_auto_rows": null,
            "grid_gap": null,
            "max_width": null,
            "order": null,
            "_view_module_version": "1.2.0",
            "grid_template_areas": null,
            "object_position": null,
            "object_fit": null,
            "grid_auto_columns": null,
            "margin": null,
            "display": null,
            "left": null
          }
        },
        "b6d0f3da4adf4029b8dda85095ece00a": {
          "model_module": "@jupyter-widgets/controls",
          "model_name": "HBoxModel",
          "model_module_version": "1.5.0",
          "state": {
            "_view_name": "HBoxView",
            "_dom_classes": [],
            "_model_name": "HBoxModel",
            "_view_module": "@jupyter-widgets/controls",
            "_model_module_version": "1.5.0",
            "_view_count": null,
            "_view_module_version": "1.5.0",
            "box_style": "",
            "layout": "IPY_MODEL_e479a23e6c594b3c82b6a32806ed7583",
            "_model_module": "@jupyter-widgets/controls",
            "children": [
              "IPY_MODEL_123ee34e4ced40379dfb032eddb9483f",
              "IPY_MODEL_a667544dec844a6cb1222b523c2f11b5",
              "IPY_MODEL_252596e8f7084f6fb7a3f9edad8cad20"
            ]
          }
        },
        "e479a23e6c594b3c82b6a32806ed7583": {
          "model_module": "@jupyter-widgets/base",
          "model_name": "LayoutModel",
          "model_module_version": "1.2.0",
          "state": {
            "_view_name": "LayoutView",
            "grid_template_rows": null,
            "right": null,
            "justify_content": null,
            "_view_module": "@jupyter-widgets/base",
            "overflow": null,
            "_model_module_version": "1.2.0",
            "_view_count": null,
            "flex_flow": null,
            "width": null,
            "min_width": null,
            "border": null,
            "align_items": null,
            "bottom": null,
            "_model_module": "@jupyter-widgets/base",
            "top": null,
            "grid_column": null,
            "overflow_y": null,
            "overflow_x": null,
            "grid_auto_flow": null,
            "grid_area": null,
            "grid_template_columns": null,
            "flex": null,
            "_model_name": "LayoutModel",
            "justify_items": null,
            "grid_row": null,
            "max_height": null,
            "align_content": null,
            "visibility": null,
            "align_self": null,
            "height": null,
            "min_height": null,
            "padding": null,
            "grid_auto_rows": null,
            "grid_gap": null,
            "max_width": null,
            "order": null,
            "_view_module_version": "1.2.0",
            "grid_template_areas": null,
            "object_position": null,
            "object_fit": null,
            "grid_auto_columns": null,
            "margin": null,
            "display": null,
            "left": null
          }
        },
        "123ee34e4ced40379dfb032eddb9483f": {
          "model_module": "@jupyter-widgets/controls",
          "model_name": "HTMLModel",
          "model_module_version": "1.5.0",
          "state": {
            "_view_name": "HTMLView",
            "style": "IPY_MODEL_078fad8d5dd64c9c9126966b3f5dd902",
            "_dom_classes": [],
            "description": "",
            "_model_name": "HTMLModel",
            "placeholder": "​",
            "_view_module": "@jupyter-widgets/controls",
            "_model_module_version": "1.5.0",
            "value": "",
            "_view_count": null,
            "_view_module_version": "1.5.0",
            "description_tooltip": null,
            "_model_module": "@jupyter-widgets/controls",
            "layout": "IPY_MODEL_0580908d736e4cee86dad69eba8abaec"
          }
        },
        "a667544dec844a6cb1222b523c2f11b5": {
          "model_module": "@jupyter-widgets/controls",
          "model_name": "FloatProgressModel",
          "model_module_version": "1.5.0",
          "state": {
            "_view_name": "ProgressView",
            "style": "IPY_MODEL_d79acec65e7241d7bce11bf6bcd50d05",
            "_dom_classes": [],
            "description": "",
            "_model_name": "FloatProgressModel",
            "bar_style": "success",
            "max": 29515,
            "_view_module": "@jupyter-widgets/controls",
            "_model_module_version": "1.5.0",
            "value": 29515,
            "_view_count": null,
            "_view_module_version": "1.5.0",
            "orientation": "horizontal",
            "min": 0,
            "description_tooltip": null,
            "_model_module": "@jupyter-widgets/controls",
            "layout": "IPY_MODEL_173bbf8cc03b43e0b3b6d6227f719554"
          }
        },
        "252596e8f7084f6fb7a3f9edad8cad20": {
          "model_module": "@jupyter-widgets/controls",
          "model_name": "HTMLModel",
          "model_module_version": "1.5.0",
          "state": {
            "_view_name": "HTMLView",
            "style": "IPY_MODEL_81aaebf2f551423783bbd26fd0736e4e",
            "_dom_classes": [],
            "description": "",
            "_model_name": "HTMLModel",
            "placeholder": "​",
            "_view_module": "@jupyter-widgets/controls",
            "_model_module_version": "1.5.0",
            "value": " 29696/? [00:00&lt;00:00, 122424.91it/s]",
            "_view_count": null,
            "_view_module_version": "1.5.0",
            "description_tooltip": null,
            "_model_module": "@jupyter-widgets/controls",
            "layout": "IPY_MODEL_c651bca68a0145fba2dcd93822b5c5aa"
          }
        },
        "078fad8d5dd64c9c9126966b3f5dd902": {
          "model_module": "@jupyter-widgets/controls",
          "model_name": "DescriptionStyleModel",
          "model_module_version": "1.5.0",
          "state": {
            "_view_name": "StyleView",
            "_model_name": "DescriptionStyleModel",
            "description_width": "",
            "_view_module": "@jupyter-widgets/base",
            "_model_module_version": "1.5.0",
            "_view_count": null,
            "_view_module_version": "1.2.0",
            "_model_module": "@jupyter-widgets/controls"
          }
        },
        "0580908d736e4cee86dad69eba8abaec": {
          "model_module": "@jupyter-widgets/base",
          "model_name": "LayoutModel",
          "model_module_version": "1.2.0",
          "state": {
            "_view_name": "LayoutView",
            "grid_template_rows": null,
            "right": null,
            "justify_content": null,
            "_view_module": "@jupyter-widgets/base",
            "overflow": null,
            "_model_module_version": "1.2.0",
            "_view_count": null,
            "flex_flow": null,
            "width": null,
            "min_width": null,
            "border": null,
            "align_items": null,
            "bottom": null,
            "_model_module": "@jupyter-widgets/base",
            "top": null,
            "grid_column": null,
            "overflow_y": null,
            "overflow_x": null,
            "grid_auto_flow": null,
            "grid_area": null,
            "grid_template_columns": null,
            "flex": null,
            "_model_name": "LayoutModel",
            "justify_items": null,
            "grid_row": null,
            "max_height": null,
            "align_content": null,
            "visibility": null,
            "align_self": null,
            "height": null,
            "min_height": null,
            "padding": null,
            "grid_auto_rows": null,
            "grid_gap": null,
            "max_width": null,
            "order": null,
            "_view_module_version": "1.2.0",
            "grid_template_areas": null,
            "object_position": null,
            "object_fit": null,
            "grid_auto_columns": null,
            "margin": null,
            "display": null,
            "left": null
          }
        },
        "d79acec65e7241d7bce11bf6bcd50d05": {
          "model_module": "@jupyter-widgets/controls",
          "model_name": "ProgressStyleModel",
          "model_module_version": "1.5.0",
          "state": {
            "_view_name": "StyleView",
            "_model_name": "ProgressStyleModel",
            "description_width": "",
            "_view_module": "@jupyter-widgets/base",
            "_model_module_version": "1.5.0",
            "_view_count": null,
            "_view_module_version": "1.2.0",
            "bar_color": null,
            "_model_module": "@jupyter-widgets/controls"
          }
        },
        "173bbf8cc03b43e0b3b6d6227f719554": {
          "model_module": "@jupyter-widgets/base",
          "model_name": "LayoutModel",
          "model_module_version": "1.2.0",
          "state": {
            "_view_name": "LayoutView",
            "grid_template_rows": null,
            "right": null,
            "justify_content": null,
            "_view_module": "@jupyter-widgets/base",
            "overflow": null,
            "_model_module_version": "1.2.0",
            "_view_count": null,
            "flex_flow": null,
            "width": null,
            "min_width": null,
            "border": null,
            "align_items": null,
            "bottom": null,
            "_model_module": "@jupyter-widgets/base",
            "top": null,
            "grid_column": null,
            "overflow_y": null,
            "overflow_x": null,
            "grid_auto_flow": null,
            "grid_area": null,
            "grid_template_columns": null,
            "flex": null,
            "_model_name": "LayoutModel",
            "justify_items": null,
            "grid_row": null,
            "max_height": null,
            "align_content": null,
            "visibility": null,
            "align_self": null,
            "height": null,
            "min_height": null,
            "padding": null,
            "grid_auto_rows": null,
            "grid_gap": null,
            "max_width": null,
            "order": null,
            "_view_module_version": "1.2.0",
            "grid_template_areas": null,
            "object_position": null,
            "object_fit": null,
            "grid_auto_columns": null,
            "margin": null,
            "display": null,
            "left": null
          }
        },
        "81aaebf2f551423783bbd26fd0736e4e": {
          "model_module": "@jupyter-widgets/controls",
          "model_name": "DescriptionStyleModel",
          "model_module_version": "1.5.0",
          "state": {
            "_view_name": "StyleView",
            "_model_name": "DescriptionStyleModel",
            "description_width": "",
            "_view_module": "@jupyter-widgets/base",
            "_model_module_version": "1.5.0",
            "_view_count": null,
            "_view_module_version": "1.2.0",
            "_model_module": "@jupyter-widgets/controls"
          }
        },
        "c651bca68a0145fba2dcd93822b5c5aa": {
          "model_module": "@jupyter-widgets/base",
          "model_name": "LayoutModel",
          "model_module_version": "1.2.0",
          "state": {
            "_view_name": "LayoutView",
            "grid_template_rows": null,
            "right": null,
            "justify_content": null,
            "_view_module": "@jupyter-widgets/base",
            "overflow": null,
            "_model_module_version": "1.2.0",
            "_view_count": null,
            "flex_flow": null,
            "width": null,
            "min_width": null,
            "border": null,
            "align_items": null,
            "bottom": null,
            "_model_module": "@jupyter-widgets/base",
            "top": null,
            "grid_column": null,
            "overflow_y": null,
            "overflow_x": null,
            "grid_auto_flow": null,
            "grid_area": null,
            "grid_template_columns": null,
            "flex": null,
            "_model_name": "LayoutModel",
            "justify_items": null,
            "grid_row": null,
            "max_height": null,
            "align_content": null,
            "visibility": null,
            "align_self": null,
            "height": null,
            "min_height": null,
            "padding": null,
            "grid_auto_rows": null,
            "grid_gap": null,
            "max_width": null,
            "order": null,
            "_view_module_version": "1.2.0",
            "grid_template_areas": null,
            "object_position": null,
            "object_fit": null,
            "grid_auto_columns": null,
            "margin": null,
            "display": null,
            "left": null
          }
        },
        "e83978b0bdbf419ba56de2e695f099e9": {
          "model_module": "@jupyter-widgets/controls",
          "model_name": "HBoxModel",
          "model_module_version": "1.5.0",
          "state": {
            "_view_name": "HBoxView",
            "_dom_classes": [],
            "_model_name": "HBoxModel",
            "_view_module": "@jupyter-widgets/controls",
            "_model_module_version": "1.5.0",
            "_view_count": null,
            "_view_module_version": "1.5.0",
            "box_style": "",
            "layout": "IPY_MODEL_1f87e757ed2c4e268e72d2e73ec35799",
            "_model_module": "@jupyter-widgets/controls",
            "children": [
              "IPY_MODEL_37de3da75df74e93a4eac500b69aef14",
              "IPY_MODEL_257049304e9f44b4b8b53e6170f50109",
              "IPY_MODEL_eb16e6c59a334daf8d1f33d90eb86bf7"
            ]
          }
        },
        "1f87e757ed2c4e268e72d2e73ec35799": {
          "model_module": "@jupyter-widgets/base",
          "model_name": "LayoutModel",
          "model_module_version": "1.2.0",
          "state": {
            "_view_name": "LayoutView",
            "grid_template_rows": null,
            "right": null,
            "justify_content": null,
            "_view_module": "@jupyter-widgets/base",
            "overflow": null,
            "_model_module_version": "1.2.0",
            "_view_count": null,
            "flex_flow": null,
            "width": null,
            "min_width": null,
            "border": null,
            "align_items": null,
            "bottom": null,
            "_model_module": "@jupyter-widgets/base",
            "top": null,
            "grid_column": null,
            "overflow_y": null,
            "overflow_x": null,
            "grid_auto_flow": null,
            "grid_area": null,
            "grid_template_columns": null,
            "flex": null,
            "_model_name": "LayoutModel",
            "justify_items": null,
            "grid_row": null,
            "max_height": null,
            "align_content": null,
            "visibility": null,
            "align_self": null,
            "height": null,
            "min_height": null,
            "padding": null,
            "grid_auto_rows": null,
            "grid_gap": null,
            "max_width": null,
            "order": null,
            "_view_module_version": "1.2.0",
            "grid_template_areas": null,
            "object_position": null,
            "object_fit": null,
            "grid_auto_columns": null,
            "margin": null,
            "display": null,
            "left": null
          }
        },
        "37de3da75df74e93a4eac500b69aef14": {
          "model_module": "@jupyter-widgets/controls",
          "model_name": "HTMLModel",
          "model_module_version": "1.5.0",
          "state": {
            "_view_name": "HTMLView",
            "style": "IPY_MODEL_3132053b4c1f4d7784c12f01c4000e40",
            "_dom_classes": [],
            "description": "",
            "_model_name": "HTMLModel",
            "placeholder": "​",
            "_view_module": "@jupyter-widgets/controls",
            "_model_module_version": "1.5.0",
            "value": "",
            "_view_count": null,
            "_view_module_version": "1.5.0",
            "description_tooltip": null,
            "_model_module": "@jupyter-widgets/controls",
            "layout": "IPY_MODEL_a100a732144a430a81a8f94804583813"
          }
        },
        "257049304e9f44b4b8b53e6170f50109": {
          "model_module": "@jupyter-widgets/controls",
          "model_name": "FloatProgressModel",
          "model_module_version": "1.5.0",
          "state": {
            "_view_name": "ProgressView",
            "style": "IPY_MODEL_ae7905c9007048b39a0d1465f1b2c678",
            "_dom_classes": [],
            "description": "",
            "_model_name": "FloatProgressModel",
            "bar_style": "success",
            "max": 4422102,
            "_view_module": "@jupyter-widgets/controls",
            "_model_module_version": "1.5.0",
            "value": 4422102,
            "_view_count": null,
            "_view_module_version": "1.5.0",
            "orientation": "horizontal",
            "min": 0,
            "description_tooltip": null,
            "_model_module": "@jupyter-widgets/controls",
            "layout": "IPY_MODEL_b73757c1af8c46c2964c5709c7e4c2c6"
          }
        },
        "eb16e6c59a334daf8d1f33d90eb86bf7": {
          "model_module": "@jupyter-widgets/controls",
          "model_name": "HTMLModel",
          "model_module_version": "1.5.0",
          "state": {
            "_view_name": "HTMLView",
            "style": "IPY_MODEL_f34bb1ce1b144b85a30bbae1782ccb01",
            "_dom_classes": [],
            "description": "",
            "_model_name": "HTMLModel",
            "placeholder": "​",
            "_view_module": "@jupyter-widgets/controls",
            "_model_module_version": "1.5.0",
            "value": " 4422656/? [00:00&lt;00:00, 7225897.70it/s]",
            "_view_count": null,
            "_view_module_version": "1.5.0",
            "description_tooltip": null,
            "_model_module": "@jupyter-widgets/controls",
            "layout": "IPY_MODEL_0e1a2e3752094bc6abc9eb897a2155e2"
          }
        },
        "3132053b4c1f4d7784c12f01c4000e40": {
          "model_module": "@jupyter-widgets/controls",
          "model_name": "DescriptionStyleModel",
          "model_module_version": "1.5.0",
          "state": {
            "_view_name": "StyleView",
            "_model_name": "DescriptionStyleModel",
            "description_width": "",
            "_view_module": "@jupyter-widgets/base",
            "_model_module_version": "1.5.0",
            "_view_count": null,
            "_view_module_version": "1.2.0",
            "_model_module": "@jupyter-widgets/controls"
          }
        },
        "a100a732144a430a81a8f94804583813": {
          "model_module": "@jupyter-widgets/base",
          "model_name": "LayoutModel",
          "model_module_version": "1.2.0",
          "state": {
            "_view_name": "LayoutView",
            "grid_template_rows": null,
            "right": null,
            "justify_content": null,
            "_view_module": "@jupyter-widgets/base",
            "overflow": null,
            "_model_module_version": "1.2.0",
            "_view_count": null,
            "flex_flow": null,
            "width": null,
            "min_width": null,
            "border": null,
            "align_items": null,
            "bottom": null,
            "_model_module": "@jupyter-widgets/base",
            "top": null,
            "grid_column": null,
            "overflow_y": null,
            "overflow_x": null,
            "grid_auto_flow": null,
            "grid_area": null,
            "grid_template_columns": null,
            "flex": null,
            "_model_name": "LayoutModel",
            "justify_items": null,
            "grid_row": null,
            "max_height": null,
            "align_content": null,
            "visibility": null,
            "align_self": null,
            "height": null,
            "min_height": null,
            "padding": null,
            "grid_auto_rows": null,
            "grid_gap": null,
            "max_width": null,
            "order": null,
            "_view_module_version": "1.2.0",
            "grid_template_areas": null,
            "object_position": null,
            "object_fit": null,
            "grid_auto_columns": null,
            "margin": null,
            "display": null,
            "left": null
          }
        },
        "ae7905c9007048b39a0d1465f1b2c678": {
          "model_module": "@jupyter-widgets/controls",
          "model_name": "ProgressStyleModel",
          "model_module_version": "1.5.0",
          "state": {
            "_view_name": "StyleView",
            "_model_name": "ProgressStyleModel",
            "description_width": "",
            "_view_module": "@jupyter-widgets/base",
            "_model_module_version": "1.5.0",
            "_view_count": null,
            "_view_module_version": "1.2.0",
            "bar_color": null,
            "_model_module": "@jupyter-widgets/controls"
          }
        },
        "b73757c1af8c46c2964c5709c7e4c2c6": {
          "model_module": "@jupyter-widgets/base",
          "model_name": "LayoutModel",
          "model_module_version": "1.2.0",
          "state": {
            "_view_name": "LayoutView",
            "grid_template_rows": null,
            "right": null,
            "justify_content": null,
            "_view_module": "@jupyter-widgets/base",
            "overflow": null,
            "_model_module_version": "1.2.0",
            "_view_count": null,
            "flex_flow": null,
            "width": null,
            "min_width": null,
            "border": null,
            "align_items": null,
            "bottom": null,
            "_model_module": "@jupyter-widgets/base",
            "top": null,
            "grid_column": null,
            "overflow_y": null,
            "overflow_x": null,
            "grid_auto_flow": null,
            "grid_area": null,
            "grid_template_columns": null,
            "flex": null,
            "_model_name": "LayoutModel",
            "justify_items": null,
            "grid_row": null,
            "max_height": null,
            "align_content": null,
            "visibility": null,
            "align_self": null,
            "height": null,
            "min_height": null,
            "padding": null,
            "grid_auto_rows": null,
            "grid_gap": null,
            "max_width": null,
            "order": null,
            "_view_module_version": "1.2.0",
            "grid_template_areas": null,
            "object_position": null,
            "object_fit": null,
            "grid_auto_columns": null,
            "margin": null,
            "display": null,
            "left": null
          }
        },
        "f34bb1ce1b144b85a30bbae1782ccb01": {
          "model_module": "@jupyter-widgets/controls",
          "model_name": "DescriptionStyleModel",
          "model_module_version": "1.5.0",
          "state": {
            "_view_name": "StyleView",
            "_model_name": "DescriptionStyleModel",
            "description_width": "",
            "_view_module": "@jupyter-widgets/base",
            "_model_module_version": "1.5.0",
            "_view_count": null,
            "_view_module_version": "1.2.0",
            "_model_module": "@jupyter-widgets/controls"
          }
        },
        "0e1a2e3752094bc6abc9eb897a2155e2": {
          "model_module": "@jupyter-widgets/base",
          "model_name": "LayoutModel",
          "model_module_version": "1.2.0",
          "state": {
            "_view_name": "LayoutView",
            "grid_template_rows": null,
            "right": null,
            "justify_content": null,
            "_view_module": "@jupyter-widgets/base",
            "overflow": null,
            "_model_module_version": "1.2.0",
            "_view_count": null,
            "flex_flow": null,
            "width": null,
            "min_width": null,
            "border": null,
            "align_items": null,
            "bottom": null,
            "_model_module": "@jupyter-widgets/base",
            "top": null,
            "grid_column": null,
            "overflow_y": null,
            "overflow_x": null,
            "grid_auto_flow": null,
            "grid_area": null,
            "grid_template_columns": null,
            "flex": null,
            "_model_name": "LayoutModel",
            "justify_items": null,
            "grid_row": null,
            "max_height": null,
            "align_content": null,
            "visibility": null,
            "align_self": null,
            "height": null,
            "min_height": null,
            "padding": null,
            "grid_auto_rows": null,
            "grid_gap": null,
            "max_width": null,
            "order": null,
            "_view_module_version": "1.2.0",
            "grid_template_areas": null,
            "object_position": null,
            "object_fit": null,
            "grid_auto_columns": null,
            "margin": null,
            "display": null,
            "left": null
          }
        },
        "7f2a015fb1214b709e45264dbd7d834d": {
          "model_module": "@jupyter-widgets/controls",
          "model_name": "HBoxModel",
          "model_module_version": "1.5.0",
          "state": {
            "_view_name": "HBoxView",
            "_dom_classes": [],
            "_model_name": "HBoxModel",
            "_view_module": "@jupyter-widgets/controls",
            "_model_module_version": "1.5.0",
            "_view_count": null,
            "_view_module_version": "1.5.0",
            "box_style": "",
            "layout": "IPY_MODEL_24df157198ae48b78e4ad13471679d19",
            "_model_module": "@jupyter-widgets/controls",
            "children": [
              "IPY_MODEL_6259432cf11b492b8e3b62a612beff7e",
              "IPY_MODEL_012ae0bfe75241b6834cc6ba75f3ad20",
              "IPY_MODEL_a62052ec9471409782885951e3a53afd"
            ]
          }
        },
        "24df157198ae48b78e4ad13471679d19": {
          "model_module": "@jupyter-widgets/base",
          "model_name": "LayoutModel",
          "model_module_version": "1.2.0",
          "state": {
            "_view_name": "LayoutView",
            "grid_template_rows": null,
            "right": null,
            "justify_content": null,
            "_view_module": "@jupyter-widgets/base",
            "overflow": null,
            "_model_module_version": "1.2.0",
            "_view_count": null,
            "flex_flow": null,
            "width": null,
            "min_width": null,
            "border": null,
            "align_items": null,
            "bottom": null,
            "_model_module": "@jupyter-widgets/base",
            "top": null,
            "grid_column": null,
            "overflow_y": null,
            "overflow_x": null,
            "grid_auto_flow": null,
            "grid_area": null,
            "grid_template_columns": null,
            "flex": null,
            "_model_name": "LayoutModel",
            "justify_items": null,
            "grid_row": null,
            "max_height": null,
            "align_content": null,
            "visibility": null,
            "align_self": null,
            "height": null,
            "min_height": null,
            "padding": null,
            "grid_auto_rows": null,
            "grid_gap": null,
            "max_width": null,
            "order": null,
            "_view_module_version": "1.2.0",
            "grid_template_areas": null,
            "object_position": null,
            "object_fit": null,
            "grid_auto_columns": null,
            "margin": null,
            "display": null,
            "left": null
          }
        },
        "6259432cf11b492b8e3b62a612beff7e": {
          "model_module": "@jupyter-widgets/controls",
          "model_name": "HTMLModel",
          "model_module_version": "1.5.0",
          "state": {
            "_view_name": "HTMLView",
            "style": "IPY_MODEL_fc6ea15ba9f44507a726fbb7a37afe30",
            "_dom_classes": [],
            "description": "",
            "_model_name": "HTMLModel",
            "placeholder": "​",
            "_view_module": "@jupyter-widgets/controls",
            "_model_module_version": "1.5.0",
            "value": "",
            "_view_count": null,
            "_view_module_version": "1.5.0",
            "description_tooltip": null,
            "_model_module": "@jupyter-widgets/controls",
            "layout": "IPY_MODEL_b01743dc2e44423a8ad6381650505421"
          }
        },
        "012ae0bfe75241b6834cc6ba75f3ad20": {
          "model_module": "@jupyter-widgets/controls",
          "model_name": "FloatProgressModel",
          "model_module_version": "1.5.0",
          "state": {
            "_view_name": "ProgressView",
            "style": "IPY_MODEL_4c5fc6cb46df412b9b3ded304a53e54c",
            "_dom_classes": [],
            "description": "",
            "_model_name": "FloatProgressModel",
            "bar_style": "success",
            "max": 5148,
            "_view_module": "@jupyter-widgets/controls",
            "_model_module_version": "1.5.0",
            "value": 5148,
            "_view_count": null,
            "_view_module_version": "1.5.0",
            "orientation": "horizontal",
            "min": 0,
            "description_tooltip": null,
            "_model_module": "@jupyter-widgets/controls",
            "layout": "IPY_MODEL_73c0128d9e8a453aa5549912715e5fdb"
          }
        },
        "a62052ec9471409782885951e3a53afd": {
          "model_module": "@jupyter-widgets/controls",
          "model_name": "HTMLModel",
          "model_module_version": "1.5.0",
          "state": {
            "_view_name": "HTMLView",
            "style": "IPY_MODEL_f81d9595da844e1e82336bc4a2766504",
            "_dom_classes": [],
            "description": "",
            "_model_name": "HTMLModel",
            "placeholder": "​",
            "_view_module": "@jupyter-widgets/controls",
            "_model_module_version": "1.5.0",
            "value": " 6144/? [00:00&lt;00:00, 170776.31it/s]",
            "_view_count": null,
            "_view_module_version": "1.5.0",
            "description_tooltip": null,
            "_model_module": "@jupyter-widgets/controls",
            "layout": "IPY_MODEL_b39e3051786f4948a5c4886294e6987d"
          }
        },
        "fc6ea15ba9f44507a726fbb7a37afe30": {
          "model_module": "@jupyter-widgets/controls",
          "model_name": "DescriptionStyleModel",
          "model_module_version": "1.5.0",
          "state": {
            "_view_name": "StyleView",
            "_model_name": "DescriptionStyleModel",
            "description_width": "",
            "_view_module": "@jupyter-widgets/base",
            "_model_module_version": "1.5.0",
            "_view_count": null,
            "_view_module_version": "1.2.0",
            "_model_module": "@jupyter-widgets/controls"
          }
        },
        "b01743dc2e44423a8ad6381650505421": {
          "model_module": "@jupyter-widgets/base",
          "model_name": "LayoutModel",
          "model_module_version": "1.2.0",
          "state": {
            "_view_name": "LayoutView",
            "grid_template_rows": null,
            "right": null,
            "justify_content": null,
            "_view_module": "@jupyter-widgets/base",
            "overflow": null,
            "_model_module_version": "1.2.0",
            "_view_count": null,
            "flex_flow": null,
            "width": null,
            "min_width": null,
            "border": null,
            "align_items": null,
            "bottom": null,
            "_model_module": "@jupyter-widgets/base",
            "top": null,
            "grid_column": null,
            "overflow_y": null,
            "overflow_x": null,
            "grid_auto_flow": null,
            "grid_area": null,
            "grid_template_columns": null,
            "flex": null,
            "_model_name": "LayoutModel",
            "justify_items": null,
            "grid_row": null,
            "max_height": null,
            "align_content": null,
            "visibility": null,
            "align_self": null,
            "height": null,
            "min_height": null,
            "padding": null,
            "grid_auto_rows": null,
            "grid_gap": null,
            "max_width": null,
            "order": null,
            "_view_module_version": "1.2.0",
            "grid_template_areas": null,
            "object_position": null,
            "object_fit": null,
            "grid_auto_columns": null,
            "margin": null,
            "display": null,
            "left": null
          }
        },
        "4c5fc6cb46df412b9b3ded304a53e54c": {
          "model_module": "@jupyter-widgets/controls",
          "model_name": "ProgressStyleModel",
          "model_module_version": "1.5.0",
          "state": {
            "_view_name": "StyleView",
            "_model_name": "ProgressStyleModel",
            "description_width": "",
            "_view_module": "@jupyter-widgets/base",
            "_model_module_version": "1.5.0",
            "_view_count": null,
            "_view_module_version": "1.2.0",
            "bar_color": null,
            "_model_module": "@jupyter-widgets/controls"
          }
        },
        "73c0128d9e8a453aa5549912715e5fdb": {
          "model_module": "@jupyter-widgets/base",
          "model_name": "LayoutModel",
          "model_module_version": "1.2.0",
          "state": {
            "_view_name": "LayoutView",
            "grid_template_rows": null,
            "right": null,
            "justify_content": null,
            "_view_module": "@jupyter-widgets/base",
            "overflow": null,
            "_model_module_version": "1.2.0",
            "_view_count": null,
            "flex_flow": null,
            "width": null,
            "min_width": null,
            "border": null,
            "align_items": null,
            "bottom": null,
            "_model_module": "@jupyter-widgets/base",
            "top": null,
            "grid_column": null,
            "overflow_y": null,
            "overflow_x": null,
            "grid_auto_flow": null,
            "grid_area": null,
            "grid_template_columns": null,
            "flex": null,
            "_model_name": "LayoutModel",
            "justify_items": null,
            "grid_row": null,
            "max_height": null,
            "align_content": null,
            "visibility": null,
            "align_self": null,
            "height": null,
            "min_height": null,
            "padding": null,
            "grid_auto_rows": null,
            "grid_gap": null,
            "max_width": null,
            "order": null,
            "_view_module_version": "1.2.0",
            "grid_template_areas": null,
            "object_position": null,
            "object_fit": null,
            "grid_auto_columns": null,
            "margin": null,
            "display": null,
            "left": null
          }
        },
        "f81d9595da844e1e82336bc4a2766504": {
          "model_module": "@jupyter-widgets/controls",
          "model_name": "DescriptionStyleModel",
          "model_module_version": "1.5.0",
          "state": {
            "_view_name": "StyleView",
            "_model_name": "DescriptionStyleModel",
            "description_width": "",
            "_view_module": "@jupyter-widgets/base",
            "_model_module_version": "1.5.0",
            "_view_count": null,
            "_view_module_version": "1.2.0",
            "_model_module": "@jupyter-widgets/controls"
          }
        },
        "b39e3051786f4948a5c4886294e6987d": {
          "model_module": "@jupyter-widgets/base",
          "model_name": "LayoutModel",
          "model_module_version": "1.2.0",
          "state": {
            "_view_name": "LayoutView",
            "grid_template_rows": null,
            "right": null,
            "justify_content": null,
            "_view_module": "@jupyter-widgets/base",
            "overflow": null,
            "_model_module_version": "1.2.0",
            "_view_count": null,
            "flex_flow": null,
            "width": null,
            "min_width": null,
            "border": null,
            "align_items": null,
            "bottom": null,
            "_model_module": "@jupyter-widgets/base",
            "top": null,
            "grid_column": null,
            "overflow_y": null,
            "overflow_x": null,
            "grid_auto_flow": null,
            "grid_area": null,
            "grid_template_columns": null,
            "flex": null,
            "_model_name": "LayoutModel",
            "justify_items": null,
            "grid_row": null,
            "max_height": null,
            "align_content": null,
            "visibility": null,
            "align_self": null,
            "height": null,
            "min_height": null,
            "padding": null,
            "grid_auto_rows": null,
            "grid_gap": null,
            "max_width": null,
            "order": null,
            "_view_module_version": "1.2.0",
            "grid_template_areas": null,
            "object_position": null,
            "object_fit": null,
            "grid_auto_columns": null,
            "margin": null,
            "display": null,
            "left": null
          }
        }
      }
    }
  },
  "cells": [
    {
      "cell_type": "markdown",
      "metadata": {
        "id": "view-in-github",
        "colab_type": "text"
      },
      "source": [
        "<a href=\"https://colab.research.google.com/github/SantiB17/AE-Experimentation/blob/main/Autoencoder_Intro.ipynb\" target=\"_parent\"><img src=\"https://colab.research.google.com/assets/colab-badge.svg\" alt=\"Open In Colab\"/></a>"
      ]
    },
    {
      "cell_type": "code",
      "metadata": {
        "id": "h-m1-9IEba2-"
      },
      "source": [
        "import os\n",
        "import torch\n",
        "import torchvision\n",
        "import torch.nn as nn\n",
        "import torchvision.transforms as transforms\n",
        "import torch.optim as optim\n",
        "import matplotlib.pyplot as plt\n",
        "import torch.nn.functional as F\n",
        "\n",
        "from torchvision import datasets\n",
        "from torch.utils.data import DataLoader\n",
        "from torchvision.utils import save_image"
      ],
      "execution_count": 1,
      "outputs": []
    },
    {
      "cell_type": "code",
      "metadata": {
        "id": "VJtS6_4diEPz"
      },
      "source": [
        "NUM_EPOCHS = 50\n",
        "LEARNING_RATE = 1e-3\n",
        "BATCH_SIZE = 128\n",
        "transform = transforms.Compose([\n",
        "      transforms.ToTensor(),\n",
        "])"
      ],
      "execution_count": 2,
      "outputs": []
    },
    {
      "cell_type": "code",
      "metadata": {
        "colab": {
          "base_uri": "https://localhost:8080/",
          "height": 422,
          "referenced_widgets": [
            "71179ae9f4e64dd387fa9f5b74bc1b3c",
            "b89e42f61eac4512ad65745217df793b",
            "ca2923e3c4e8427188f18f5295cc4143",
            "2e7f71daf63f416093a8f8c1c2ca13b6",
            "12cc2430ce304eacbadab8a4ff1471b8",
            "fe2aeeae4a4842d693fb333746cea0c6",
            "2872abc40b434d3db43cd78e8e42f62c",
            "b1537358569744c7be0f7cc1b0df981e",
            "ec05f5c2edd6440a8b51064c92a9bcff",
            "cd023bfcb84c4d8f8c0559afc53cbf47",
            "c43c3b9c411b4d7aade229c830e12aa2",
            "b6d0f3da4adf4029b8dda85095ece00a",
            "e479a23e6c594b3c82b6a32806ed7583",
            "123ee34e4ced40379dfb032eddb9483f",
            "a667544dec844a6cb1222b523c2f11b5",
            "252596e8f7084f6fb7a3f9edad8cad20",
            "078fad8d5dd64c9c9126966b3f5dd902",
            "0580908d736e4cee86dad69eba8abaec",
            "d79acec65e7241d7bce11bf6bcd50d05",
            "173bbf8cc03b43e0b3b6d6227f719554",
            "81aaebf2f551423783bbd26fd0736e4e",
            "c651bca68a0145fba2dcd93822b5c5aa",
            "e83978b0bdbf419ba56de2e695f099e9",
            "1f87e757ed2c4e268e72d2e73ec35799",
            "37de3da75df74e93a4eac500b69aef14",
            "257049304e9f44b4b8b53e6170f50109",
            "eb16e6c59a334daf8d1f33d90eb86bf7",
            "3132053b4c1f4d7784c12f01c4000e40",
            "a100a732144a430a81a8f94804583813",
            "ae7905c9007048b39a0d1465f1b2c678",
            "b73757c1af8c46c2964c5709c7e4c2c6",
            "f34bb1ce1b144b85a30bbae1782ccb01",
            "0e1a2e3752094bc6abc9eb897a2155e2",
            "7f2a015fb1214b709e45264dbd7d834d",
            "24df157198ae48b78e4ad13471679d19",
            "6259432cf11b492b8e3b62a612beff7e",
            "012ae0bfe75241b6834cc6ba75f3ad20",
            "a62052ec9471409782885951e3a53afd",
            "fc6ea15ba9f44507a726fbb7a37afe30",
            "b01743dc2e44423a8ad6381650505421",
            "4c5fc6cb46df412b9b3ded304a53e54c",
            "73c0128d9e8a453aa5549912715e5fdb",
            "f81d9595da844e1e82336bc4a2766504",
            "b39e3051786f4948a5c4886294e6987d"
          ]
        },
        "id": "mmMW9OOW77jR",
        "outputId": "9ce39def-2bff-4494-a343-f970070574f9"
      },
      "source": [
        "trainset = datasets.FashionMNIST(\n",
        "    root='./data', \n",
        "    train=True,\n",
        "    download=True,\n",
        "    transform=transform\n",
        ")\n",
        "testset = datasets.FashionMNIST(\n",
        "    root='./data',\n",
        "    train=False,\n",
        "    download=True,\n",
        "    transform=transform\n",
        ")\n",
        "\n",
        "trainloader = DataLoader(\n",
        "    trainset,\n",
        "    batch_size=BATCH_SIZE,\n",
        "    shuffle=True\n",
        ")\n",
        "testloader = DataLoader(\n",
        "    testset,\n",
        "    batch_size=BATCH_SIZE,\n",
        "    shuffle=True\n",
        ")"
      ],
      "execution_count": 3,
      "outputs": [
        {
          "output_type": "stream",
          "name": "stdout",
          "text": [
            "Downloading http://fashion-mnist.s3-website.eu-central-1.amazonaws.com/train-images-idx3-ubyte.gz\n",
            "Downloading http://fashion-mnist.s3-website.eu-central-1.amazonaws.com/train-images-idx3-ubyte.gz to ./data/FashionMNIST/raw/train-images-idx3-ubyte.gz\n"
          ]
        },
        {
          "output_type": "display_data",
          "data": {
            "application/vnd.jupyter.widget-view+json": {
              "model_id": "71179ae9f4e64dd387fa9f5b74bc1b3c",
              "version_minor": 0,
              "version_major": 2
            },
            "text/plain": [
              "  0%|          | 0/26421880 [00:00<?, ?it/s]"
            ]
          },
          "metadata": {}
        },
        {
          "output_type": "stream",
          "name": "stdout",
          "text": [
            "Extracting ./data/FashionMNIST/raw/train-images-idx3-ubyte.gz to ./data/FashionMNIST/raw\n",
            "\n",
            "Downloading http://fashion-mnist.s3-website.eu-central-1.amazonaws.com/train-labels-idx1-ubyte.gz\n",
            "Downloading http://fashion-mnist.s3-website.eu-central-1.amazonaws.com/train-labels-idx1-ubyte.gz to ./data/FashionMNIST/raw/train-labels-idx1-ubyte.gz\n"
          ]
        },
        {
          "output_type": "display_data",
          "data": {
            "application/vnd.jupyter.widget-view+json": {
              "model_id": "b6d0f3da4adf4029b8dda85095ece00a",
              "version_minor": 0,
              "version_major": 2
            },
            "text/plain": [
              "  0%|          | 0/29515 [00:00<?, ?it/s]"
            ]
          },
          "metadata": {}
        },
        {
          "output_type": "stream",
          "name": "stdout",
          "text": [
            "Extracting ./data/FashionMNIST/raw/train-labels-idx1-ubyte.gz to ./data/FashionMNIST/raw\n",
            "\n",
            "Downloading http://fashion-mnist.s3-website.eu-central-1.amazonaws.com/t10k-images-idx3-ubyte.gz\n",
            "Downloading http://fashion-mnist.s3-website.eu-central-1.amazonaws.com/t10k-images-idx3-ubyte.gz to ./data/FashionMNIST/raw/t10k-images-idx3-ubyte.gz\n"
          ]
        },
        {
          "output_type": "display_data",
          "data": {
            "application/vnd.jupyter.widget-view+json": {
              "model_id": "e83978b0bdbf419ba56de2e695f099e9",
              "version_minor": 0,
              "version_major": 2
            },
            "text/plain": [
              "  0%|          | 0/4422102 [00:00<?, ?it/s]"
            ]
          },
          "metadata": {}
        },
        {
          "output_type": "stream",
          "name": "stdout",
          "text": [
            "Extracting ./data/FashionMNIST/raw/t10k-images-idx3-ubyte.gz to ./data/FashionMNIST/raw\n",
            "\n",
            "Downloading http://fashion-mnist.s3-website.eu-central-1.amazonaws.com/t10k-labels-idx1-ubyte.gz\n",
            "Downloading http://fashion-mnist.s3-website.eu-central-1.amazonaws.com/t10k-labels-idx1-ubyte.gz to ./data/FashionMNIST/raw/t10k-labels-idx1-ubyte.gz\n"
          ]
        },
        {
          "output_type": "display_data",
          "data": {
            "application/vnd.jupyter.widget-view+json": {
              "model_id": "7f2a015fb1214b709e45264dbd7d834d",
              "version_minor": 0,
              "version_major": 2
            },
            "text/plain": [
              "  0%|          | 0/5148 [00:00<?, ?it/s]"
            ]
          },
          "metadata": {}
        },
        {
          "output_type": "stream",
          "name": "stdout",
          "text": [
            "Extracting ./data/FashionMNIST/raw/t10k-labels-idx1-ubyte.gz to ./data/FashionMNIST/raw\n",
            "\n"
          ]
        }
      ]
    },
    {
      "cell_type": "code",
      "metadata": {
        "id": "FyKjB1YX8q9C"
      },
      "source": [
        "def get_device():\n",
        "  if torch.cuda.is_available():\n",
        "    device = 'cuda:0'\n",
        "  else:\n",
        "    device = 'cpu'\n",
        "  return device\n",
        "\n",
        "def make_dir():\n",
        "  image_dir = 'FashionMNIST_Images'\n",
        "  if not os.path.exists(image_dir):\n",
        "    os.makedirs(image_dir)\n",
        "\n",
        "def save_decoded_image(img, epoch):\n",
        "  img = img.view(img.size(0), 1, 28, 28)\n",
        "  save_image = (img, './FashionMNIST_Images/linear_ae_image{}.png'.format(epoch))"
      ],
      "execution_count": 4,
      "outputs": []
    },
    {
      "cell_type": "markdown",
      "metadata": {
        "id": "CkRQwUKvDEZQ"
      },
      "source": [
        ""
      ]
    },
    {
      "cell_type": "markdown",
      "metadata": {
        "id": "fYtIWJsHCBvW"
      },
      "source": [
        "**Autoencoder Network**"
      ]
    },
    {
      "cell_type": "code",
      "metadata": {
        "colab": {
          "base_uri": "https://localhost:8080/"
        },
        "id": "fEX_rKpdCFBW",
        "outputId": "82d8c422-24b6-41e7-b93d-783755955855"
      },
      "source": [
        "class Autoencoder(nn.Module):\n",
        "    def __init__(self):\n",
        "        super(Autoencoder, self).__init__()\n",
        "        # encoder\n",
        "        self.enc1 = nn.Linear(in_features=784, out_features=256)\n",
        "        self.enc2 = nn.Linear(in_features=256, out_features=16)\n",
        "    \n",
        "        # decoder \n",
        "        self.dec1 = nn.Linear(in_features=16, out_features=256)\n",
        "        self.dec2 = nn.Linear(in_features=256, out_features=784)\n",
        "  \n",
        "    def forward(self, x):\n",
        "        x = F.relu(self.enc1(x))\n",
        "        x = F.relu(self.enc2(x))\n",
        "        x = F.relu(self.dec1(x))\n",
        "        x = F.relu(self.dec2(x))\n",
        "        return x\n",
        "net = Autoencoder()\n",
        "print(net)"
      ],
      "execution_count": 5,
      "outputs": [
        {
          "output_type": "stream",
          "name": "stdout",
          "text": [
            "Autoencoder(\n",
            "  (enc1): Linear(in_features=784, out_features=256, bias=True)\n",
            "  (enc2): Linear(in_features=256, out_features=16, bias=True)\n",
            "  (dec1): Linear(in_features=16, out_features=256, bias=True)\n",
            "  (dec2): Linear(in_features=256, out_features=784, bias=True)\n",
            ")\n"
          ]
        }
      ]
    },
    {
      "cell_type": "code",
      "metadata": {
        "id": "8KkUe_EyEKrJ"
      },
      "source": [
        "criterion = nn.MSELoss()\n",
        "optimizer = optim.Adam(net.parameters(), lr=LEARNING_RATE)"
      ],
      "execution_count": 6,
      "outputs": []
    },
    {
      "cell_type": "code",
      "metadata": {
        "id": "Ih5j4nMkZgfi"
      },
      "source": [
        "class Autoencoder1(nn.Module):\n",
        "  def __init__(self):\n",
        "    super(Autoencoder1, self).__init__()\n",
        "    #encoder\n",
        "    self.enc1 = nn.Linear(in_features=784, out_features=256)\n",
        "    self.enc2 = nn.Linear(in_features=256, out_features=16)\n",
        "\n",
        "    #decoder\n",
        "    self.dec1 = nn.Linear(in_features=16, out_features=256)\n",
        "    self.dec2 = nn.Linear(in_features=256, out_features=784)\n",
        "\n",
        "  def forward(self, x):\n",
        "    x = F.leaky_relu(self.enc1(x))\n",
        "    x = F.leaky_relu(self.enc2(x))\n",
        "    x = F.leaky_relu(self.dec1(x))\n",
        "    x = F.leaky_relu(self.dec2(x))\n",
        "    return x"
      ],
      "execution_count": 11,
      "outputs": []
    },
    {
      "cell_type": "code",
      "metadata": {
        "colab": {
          "base_uri": "https://localhost:8080/"
        },
        "id": "QE8Ay89WZjAi",
        "outputId": "fdebe24e-2a68-4968-ea02-f473133056db"
      },
      "source": [
        "net1 = Autoencoder1()\n",
        "print(net1)"
      ],
      "execution_count": 12,
      "outputs": [
        {
          "output_type": "stream",
          "name": "stdout",
          "text": [
            "Autoencoder1(\n",
            "  (enc1): Linear(in_features=784, out_features=256, bias=True)\n",
            "  (enc2): Linear(in_features=256, out_features=16, bias=True)\n",
            "  (dec1): Linear(in_features=16, out_features=256, bias=True)\n",
            "  (dec2): Linear(in_features=256, out_features=784, bias=True)\n",
            ")\n"
          ]
        }
      ]
    },
    {
      "cell_type": "markdown",
      "metadata": {
        "id": "mup_M27FCdB2"
      },
      "source": [
        "**Train and Test Functions**"
      ]
    },
    {
      "cell_type": "code",
      "metadata": {
        "id": "84loeK9wClid"
      },
      "source": [
        "def train(net, trainloader, NUM_EPOCHS):\n",
        "  train_loss = []\n",
        "  for epoch in range(NUM_EPOCHS):\n",
        "    running_loss = 0.0\n",
        "    for data in trainloader:\n",
        "      img, _ = data\n",
        "      img = img.to(device)\n",
        "      img = img.view(img.size(0), -1)\n",
        "      optimizer.zero_grad()\n",
        "      outputs = net(img)\n",
        "      loss = criterion(outputs, img)\n",
        "      loss.backward()\n",
        "      optimizer.step()\n",
        "      running_loss += loss.item()\n",
        "\n",
        "    loss = running_loss / len(trainloader)\n",
        "    train_loss.append(loss)\n",
        "    print('Epoch {} of {}, Train Loss: {:.3f}'.format(\n",
        "        epoch+1, NUM_EPOCHS, loss))\n",
        "    if epoch % 5 == 0:\n",
        "      save_decoded_image(outputs.cpu().data, epoch)\n",
        "      \n",
        "  return train_loss\n",
        "\n",
        "def test_image_reconstruction(net, testloader):\n",
        "  for batch in testloader:\n",
        "    img, _ = batch\n",
        "    img = img.to(device)\n",
        "    img = img.view(img.size(0), -1)\n",
        "    outputs = net(img)\n",
        "    outputs = outputs.view(outputs.size(0), 1, 28, 28).cpu().data\n",
        "    save_image(outputs, 'fashionmnist_reconstruction.png')\n",
        "    break\n",
        "\n"
      ],
      "execution_count": 13,
      "outputs": []
    },
    {
      "cell_type": "markdown",
      "metadata": {
        "id": "40PPhQhbJO_u"
      },
      "source": [
        "**Training the Autoencoder Network**"
      ]
    },
    {
      "cell_type": "code",
      "metadata": {
        "colab": {
          "base_uri": "https://localhost:8080/"
        },
        "id": "h58Rt6XZEgph",
        "outputId": "13f7d958-0091-47d0-ef1c-22b5131f14e2"
      },
      "source": [
        "device = get_device()\n",
        "print(device)\n",
        "net.to(device)\n",
        "\n",
        "make_dir()\n",
        "\n",
        "train_loss = train(net, trainloader, NUM_EPOCHS)\n",
        "train_loss1 = train(net1, trainloader, NUM_EPOCHS)\n"
      ],
      "execution_count": 14,
      "outputs": [
        {
          "output_type": "stream",
          "name": "stdout",
          "text": [
            "cpu\n",
            "Epoch 1 of 50, Train Loss: 0.021\n",
            "Epoch 2 of 50, Train Loss: 0.021\n",
            "Epoch 3 of 50, Train Loss: 0.021\n",
            "Epoch 4 of 50, Train Loss: 0.021\n",
            "Epoch 5 of 50, Train Loss: 0.021\n",
            "Epoch 6 of 50, Train Loss: 0.021\n",
            "Epoch 7 of 50, Train Loss: 0.021\n",
            "Epoch 8 of 50, Train Loss: 0.021\n",
            "Epoch 9 of 50, Train Loss: 0.021\n",
            "Epoch 10 of 50, Train Loss: 0.021\n",
            "Epoch 11 of 50, Train Loss: 0.021\n",
            "Epoch 12 of 50, Train Loss: 0.021\n",
            "Epoch 13 of 50, Train Loss: 0.021\n",
            "Epoch 14 of 50, Train Loss: 0.021\n",
            "Epoch 15 of 50, Train Loss: 0.021\n",
            "Epoch 16 of 50, Train Loss: 0.021\n",
            "Epoch 17 of 50, Train Loss: 0.021\n",
            "Epoch 18 of 50, Train Loss: 0.021\n",
            "Epoch 19 of 50, Train Loss: 0.021\n",
            "Epoch 20 of 50, Train Loss: 0.021\n",
            "Epoch 21 of 50, Train Loss: 0.021\n",
            "Epoch 22 of 50, Train Loss: 0.021\n",
            "Epoch 23 of 50, Train Loss: 0.021\n",
            "Epoch 24 of 50, Train Loss: 0.021\n",
            "Epoch 25 of 50, Train Loss: 0.021\n",
            "Epoch 26 of 50, Train Loss: 0.021\n",
            "Epoch 27 of 50, Train Loss: 0.021\n",
            "Epoch 28 of 50, Train Loss: 0.021\n",
            "Epoch 29 of 50, Train Loss: 0.021\n",
            "Epoch 30 of 50, Train Loss: 0.021\n",
            "Epoch 31 of 50, Train Loss: 0.021\n",
            "Epoch 32 of 50, Train Loss: 0.021\n",
            "Epoch 33 of 50, Train Loss: 0.021\n",
            "Epoch 34 of 50, Train Loss: 0.021\n",
            "Epoch 35 of 50, Train Loss: 0.021\n",
            "Epoch 36 of 50, Train Loss: 0.021\n",
            "Epoch 37 of 50, Train Loss: 0.021\n",
            "Epoch 38 of 50, Train Loss: 0.021\n",
            "Epoch 39 of 50, Train Loss: 0.021\n",
            "Epoch 40 of 50, Train Loss: 0.021\n",
            "Epoch 41 of 50, Train Loss: 0.021\n",
            "Epoch 42 of 50, Train Loss: 0.021\n",
            "Epoch 43 of 50, Train Loss: 0.021\n",
            "Epoch 44 of 50, Train Loss: 0.021\n",
            "Epoch 45 of 50, Train Loss: 0.021\n",
            "Epoch 46 of 50, Train Loss: 0.021\n",
            "Epoch 47 of 50, Train Loss: 0.021\n",
            "Epoch 48 of 50, Train Loss: 0.021\n",
            "Epoch 49 of 50, Train Loss: 0.021\n",
            "Epoch 50 of 50, Train Loss: 0.021\n",
            "Epoch 1 of 50, Train Loss: 0.192\n",
            "Epoch 2 of 50, Train Loss: 0.192\n",
            "Epoch 3 of 50, Train Loss: 0.192\n",
            "Epoch 4 of 50, Train Loss: 0.192\n",
            "Epoch 5 of 50, Train Loss: 0.192\n",
            "Epoch 6 of 50, Train Loss: 0.192\n",
            "Epoch 7 of 50, Train Loss: 0.192\n",
            "Epoch 8 of 50, Train Loss: 0.192\n",
            "Epoch 9 of 50, Train Loss: 0.192\n",
            "Epoch 10 of 50, Train Loss: 0.192\n",
            "Epoch 11 of 50, Train Loss: 0.192\n",
            "Epoch 12 of 50, Train Loss: 0.192\n",
            "Epoch 13 of 50, Train Loss: 0.192\n",
            "Epoch 14 of 50, Train Loss: 0.192\n",
            "Epoch 15 of 50, Train Loss: 0.192\n",
            "Epoch 16 of 50, Train Loss: 0.192\n",
            "Epoch 17 of 50, Train Loss: 0.192\n",
            "Epoch 18 of 50, Train Loss: 0.192\n",
            "Epoch 19 of 50, Train Loss: 0.192\n",
            "Epoch 20 of 50, Train Loss: 0.192\n",
            "Epoch 21 of 50, Train Loss: 0.192\n",
            "Epoch 22 of 50, Train Loss: 0.192\n",
            "Epoch 23 of 50, Train Loss: 0.192\n",
            "Epoch 24 of 50, Train Loss: 0.192\n",
            "Epoch 25 of 50, Train Loss: 0.192\n",
            "Epoch 26 of 50, Train Loss: 0.192\n",
            "Epoch 27 of 50, Train Loss: 0.192\n",
            "Epoch 28 of 50, Train Loss: 0.192\n",
            "Epoch 29 of 50, Train Loss: 0.192\n",
            "Epoch 30 of 50, Train Loss: 0.192\n",
            "Epoch 31 of 50, Train Loss: 0.192\n",
            "Epoch 32 of 50, Train Loss: 0.192\n",
            "Epoch 33 of 50, Train Loss: 0.192\n",
            "Epoch 34 of 50, Train Loss: 0.192\n",
            "Epoch 35 of 50, Train Loss: 0.192\n",
            "Epoch 36 of 50, Train Loss: 0.192\n",
            "Epoch 37 of 50, Train Loss: 0.192\n",
            "Epoch 38 of 50, Train Loss: 0.192\n",
            "Epoch 39 of 50, Train Loss: 0.192\n",
            "Epoch 40 of 50, Train Loss: 0.192\n",
            "Epoch 41 of 50, Train Loss: 0.192\n",
            "Epoch 42 of 50, Train Loss: 0.192\n",
            "Epoch 43 of 50, Train Loss: 0.192\n",
            "Epoch 44 of 50, Train Loss: 0.192\n",
            "Epoch 45 of 50, Train Loss: 0.192\n",
            "Epoch 46 of 50, Train Loss: 0.192\n",
            "Epoch 47 of 50, Train Loss: 0.192\n",
            "Epoch 48 of 50, Train Loss: 0.192\n",
            "Epoch 49 of 50, Train Loss: 0.192\n",
            "Epoch 50 of 50, Train Loss: 0.192\n"
          ]
        }
      ]
    },
    {
      "cell_type": "code",
      "metadata": {
        "colab": {
          "base_uri": "https://localhost:8080/",
          "height": 295
        },
        "id": "p_7zWm2_yCWJ",
        "outputId": "6de80c2a-ea43-4476-987a-7fb4742275b2"
      },
      "source": [
        "plt.figure()\n",
        "plt.plot(train_loss)\n",
        "plt.plot(train_loss1)\n",
        "plt.title('ReLU vs Softplus')\n",
        "plt.xlabel('Epochs')\n",
        "plt.ylabel('Loss')\n",
        "plt.savefig('AE_FashionMNIST_Loss.png')\n",
        "\n",
        "test_image_reconstruction(net, testloader)"
      ],
      "execution_count": 15,
      "outputs": [
        {
          "output_type": "display_data",
          "data": {
            "image/png": "[encoded data removed]",
            "text/plain": [
              "<Figure size 432x288 with 1 Axes>"
            ]
          },
          "metadata": {
            "needs_background": "light"
          }
        }
      ]
    },
    {
      "cell_type": "code",
      "metadata": {
        "id": "xsAdoOgCJ4v7",
        "colab": {
          "base_uri": "https://localhost:8080/",
          "height": 295
        },
        "outputId": "e43235dd-92dc-436c-d342-10eb62e9b9fb"
      },
      "source": [
        "plt.figure()\n",
        "plt.plot(train_loss)\n",
        "plt.title('ReLU')\n",
        "plt.xlabel('Epochs')\n",
        "plt.ylabel('Loss')\n",
        "plt.savefig('AE_FashionMNIST_Loss.png')\n",
        "\n",
        "test_image_reconstruction(net, testloader)"
      ],
      "execution_count": 16,
      "outputs": [
        {
          "output_type": "display_data",
          "data": {
            "image/png": "[encoded data removed]",
            "text/plain": [
              "<Figure size 432x288 with 1 Axes>"
            ]
          },
          "metadata": {
            "needs_background": "light"
          }
        }
      ]
    },
    {
      "cell_type": "code",
      "metadata": {
        "colab": {
          "base_uri": "https://localhost:8080/",
          "height": 295
        },
        "id": "HBUR3lX-7dtu",
        "outputId": "17c51801-df2c-4731-cbec-a29c1ae3d46d"
      },
      "source": [
        "plt.figure()\n",
        "plt.plot(train_loss1)\n",
        "plt.title('Leaky ReLU')\n",
        "plt.xlabel('Epochs')\n",
        "plt.ylabel('Loss')\n",
        "plt.savefig('AE_FashionMNIST_Loss1.png')\n",
        "\n",
        "test_image_reconstruction(net1, testloader)"
      ],
      "execution_count": 18,
      "outputs": [
        {
          "output_type": "display_data",
          "data": {
            "image/png": "[encoded data removed]",
            "text/plain": [
              "<Figure size 432x288 with 1 Axes>"
            ]
          },
          "metadata": {
            "needs_background": "light"
          }
        }
      ]
    },
    {
      "cell_type": "code",
      "metadata": {
        "id": "VqU-KodA8MAf"
      },
      "source": [
        ""
      ],
      "execution_count": null,
      "outputs": []
    }
  ]
}